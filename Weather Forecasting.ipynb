{
 "cells": [
  {
   "cell_type": "code",
   "execution_count": 2,
   "metadata": {},
   "outputs": [],
   "source": [
    "from tkinter import *\n",
    "from PIL import ImageTk,Image\n",
    "import requests\n",
    "import time"
   ]
  },
  {
   "cell_type": "code",
   "execution_count": 3,
   "metadata": {},
   "outputs": [],
   "source": [
    "def getWeather(root):\n",
    "    city = city_entry.get()\n",
    "    api = \"https://api.openweathermap.org/data/2.5/weather?q=\"+city+\"&appid=760eebf1acdb97450024e42b82c8fce5\"\n",
    "    json_data = requests.get(api).json()\n",
    "    condition = json_data['weather'][0]['main']\n",
    "    temp = int(json_data['main']['temp'] - 273.15)\n",
    "    min_temp = int(json_data['main']['temp_min'] - 273.15)\n",
    "    max_temp = int(json_data['main']['temp_max'] - 273.15)\n",
    "    pressure = int(json_data['main'][\"pressure\"])\n",
    "    humidity = int(json_data['main']['humidity'])\n",
    "    wind = json_data['wind']['speed']\n",
    "    sunrise = time.strftime(\"%I:%M:%S\", time.gmtime(json_data['sys']['sunrise'] - 19800))\n",
    "    sunset = time.strftime(\"%I:%M:%S\", time.gmtime(json_data['sys']['sunset'] - 19800))    \n",
    "    final_info = condition + \"\\n\" +\"  \" + str(temp) + \"°C\"\n",
    "    final_data = \"\\n\" + \"Max Temp: \" + str(max_temp) + \"°C\" + \"\\n\" + \"Min Temp: \" + str(min_temp) + \"°C\" + \"\\n\" + \"Air Pressure: \" + str(pressure) + \" hPa \" + \"\\n\" + \"Humidity: \" + str(humidity) + \"%\" + \"\\n\" + \"Wind Speed: \" + str(wind) + \"\\n\" + \"Sunrise: \" + sunrise + \"\\n\" + \"Sunset: \" + sunset\n",
    "    my_canvas.create_text(590,530, text= final_info ,font = (\"Gill Sans\",42,'bold'), fill=\"white\")\n",
    "    my_canvas.create_text(180,630, text= final_data ,font = (\"Futura\",21,'bold'), fill=\"cyan\")"
   ]
  },
  {
   "cell_type": "code",
   "execution_count": 4,
   "metadata": {},
   "outputs": [],
   "source": [
    "def entry_clear(e):\n",
    "    city_entry.delete(0, END)"
   ]
  },
  {
   "cell_type": "code",
   "execution_count": 5,
   "metadata": {},
   "outputs": [
    {
     "data": {
      "text/plain": [
       "'2111491505088getWeather'"
      ]
     },
     "execution_count": 5,
     "metadata": {},
     "output_type": "execute_result"
    }
   ],
   "source": [
    "root = Tk()\n",
    "root.title(\"WEATHER APP\")\n",
    "root.config(bg=\"grey\")\n",
    "root.geometry(\"700x1280\")\n",
    "root.resizable(False,False)\n",
    "\n",
    "image_bg = ImageTk.PhotoImage(file = \"C:/Users/omkar/Downloads/BG-photo.jpg\")\n",
    "my_canvas = Canvas(root, width=700, height=1280, bd=0, highlightthickness=0) \n",
    "my_canvas.pack(fill=\"both\", expand=False)\n",
    "\n",
    "my_canvas.create_image(0,0, image = image_bg, anchor = \"nw\")\n",
    "\n",
    "my_canvas.create_text(350,120, text= \"WEATHER APP\" ,font = (\"Rockwell\",51,'bold'), fill=\"gold\")\n",
    "\n",
    "city_entry = Entry(root, font = (\"Helvetica\",27,'bold'), width = 18, fg=\"black\")\n",
    "city_entry.insert(0,\"Enter a City\")\n",
    "my_window = my_canvas.create_window(168,200, anchor=\"nw\", window = city_entry)\n",
    "city_entry.bind(\"<Button-1>\",entry_clear)\n",
    "city_entry.bind(\"<Return>\",getWeather)"
   ]
  },
  {
   "cell_type": "code",
   "execution_count": null,
   "metadata": {},
   "outputs": [],
   "source": [
    "root.mainloop()"
   ]
  },
  {
   "cell_type": "code",
   "execution_count": null,
   "metadata": {},
   "outputs": [],
   "source": []
  },
  {
   "cell_type": "code",
   "execution_count": null,
   "metadata": {},
   "outputs": [],
   "source": []
  },
  {
   "cell_type": "code",
   "execution_count": null,
   "metadata": {},
   "outputs": [],
   "source": []
  },
  {
   "cell_type": "code",
   "execution_count": null,
   "metadata": {},
   "outputs": [],
   "source": []
  }
 ],
 "metadata": {
  "kernelspec": {
   "display_name": "Python 3",
   "language": "python",
   "name": "python3"
  },
  "language_info": {
   "codemirror_mode": {
    "name": "ipython",
    "version": 3
   },
   "file_extension": ".py",
   "mimetype": "text/x-python",
   "name": "python",
   "nbconvert_exporter": "python",
   "pygments_lexer": "ipython3",
   "version": "3.8.5"
  }
 },
 "nbformat": 4,
 "nbformat_minor": 4
}
